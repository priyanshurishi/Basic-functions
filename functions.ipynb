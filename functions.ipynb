{
  "nbformat": 4,
  "nbformat_minor": 0,
  "metadata": {
    "colab": {
      "name": "2 Priyanshu Rishi (RA1911042010041) .ipynb",
      "provenance": [],
      "authorship_tag": "ABX9TyN/W3B8bdo4ZIyRtU/bMUcP",
      "include_colab_link": true
    },
    "kernelspec": {
      "name": "python3",
      "display_name": "Python 3"
    }
  },
  "cells": [
    {
      "cell_type": "markdown",
      "metadata": {
        "id": "view-in-github",
        "colab_type": "text"
      },
      "source": [
        "<a href=\"https://colab.research.google.com/github/priyanshurishi/Basic-functions/blob/main/functions.ipynb\" target=\"_parent\"><img src=\"https://colab.research.google.com/assets/colab-badge.svg\" alt=\"Open In Colab\"/></a>"
      ]
    },
    {
      "cell_type": "code",
      "metadata": {
        "colab": {
          "base_uri": "https://localhost:8080/"
        },
        "id": "5l_w06K9dqPp",
        "outputId": "cc8acf19-783f-4cda-f6d4-46528b255ed3"
      },
      "source": [
        "import re\n",
        "\n",
        "S= \"The rain in Spain\"\n",
        "s=\"Spain\"\n",
        "x = re.search(s, S)\n",
        "\n",
        "print(x) "
      ],
      "execution_count": null,
      "outputs": [
        {
          "output_type": "stream",
          "text": [
            "<_sre.SRE_Match object; span=(12, 17), match='Spain'>\n"
          ],
          "name": "stdout"
        }
      ]
    },
    {
      "cell_type": "markdown",
      "metadata": {
        "id": "9q5XWtaad3Zp"
      },
      "source": [
        "Hence, it means that the string 's' is there in the string 'S'. And the position of the string 's' in string 'S' is from 12 to 17"
      ]
    },
    {
      "cell_type": "code",
      "metadata": {
        "colab": {
          "base_uri": "https://localhost:8080/"
        },
        "id": "KfA5jE59jC0F",
        "outputId": "a511e7d9-5fb6-412e-eed5-123c4b1a2c8e"
      },
      "source": [
        "import re\n",
        "\n",
        "S= \"I am studying in SRM University\"\n",
        "s=\"SRM\"\n",
        "x = re.search(s, S)\n",
        "\n",
        "print(x) "
      ],
      "execution_count": null,
      "outputs": [
        {
          "output_type": "stream",
          "text": [
            "<_sre.SRE_Match object; span=(17, 20), match='SRM'>\n"
          ],
          "name": "stdout"
        }
      ]
    },
    {
      "cell_type": "markdown",
      "metadata": {
        "id": "rX9EZmJsjU1O"
      },
      "source": [
        "Hence, it means that the string 's' is there in the string 'S'. And the position of the string 's' in string 'S' is from 17 to 20."
      ]
    },
    {
      "cell_type": "code",
      "metadata": {
        "id": "cRuCRCCsjYTX",
        "colab": {
          "base_uri": "https://localhost:8080/"
        },
        "outputId": "405f5aa2-d263-46ee-c2ce-d1d17d9eb496"
      },
      "source": [
        "import pandas as pd\n",
        "s = pd.Series([1,2,3,4,5] , index=['a','b','c','d','e'])\n",
        "print (s['a'])\n"
      ],
      "execution_count": null,
      "outputs": [
        {
          "output_type": "stream",
          "text": [
            "1\n"
          ],
          "name": "stdout"
        }
      ]
    },
    {
      "cell_type": "code",
      "metadata": {
        "colab": {
          "base_uri": "https://localhost:8080/"
        },
        "id": "fDPwHZNxwxyU",
        "outputId": "01cb942b-abbe-4b01-8dc6-edfdeaad3c73"
      },
      "source": [
        "2+4.00"
      ],
      "execution_count": null,
      "outputs": [
        {
          "output_type": "execute_result",
          "data": {
            "text/plain": [
              "6.0"
            ]
          },
          "metadata": {
            "tags": []
          },
          "execution_count": 6
        }
      ]
    },
    {
      "cell_type": "code",
      "metadata": {
        "colab": {
          "base_uri": "https://localhost:8080/"
        },
        "id": "H8SzxqERwzeS",
        "outputId": "84b05222-7212-4cbb-b105-7842874bfe24"
      },
      "source": [
        "2**4.00"
      ],
      "execution_count": null,
      "outputs": [
        {
          "output_type": "execute_result",
          "data": {
            "text/plain": [
              "16.0"
            ]
          },
          "metadata": {
            "tags": []
          },
          "execution_count": 7
        }
      ]
    },
    {
      "cell_type": "code",
      "metadata": {
        "colab": {
          "base_uri": "https://localhost:8080/"
        },
        "id": "TGMcZn_kw6Bw",
        "outputId": "b3c71049-192e-49d1-e0b2-012bf703042c"
      },
      "source": [
        "print(\"xyyzxyzxzxyy\".count('xyy',2,11))\n"
      ],
      "execution_count": null,
      "outputs": [
        {
          "output_type": "stream",
          "text": [
            "0\n"
          ],
          "name": "stdout"
        }
      ]
    },
    {
      "cell_type": "code",
      "metadata": {
        "id": "4A10cjP_xgYy",
        "colab": {
          "base_uri": "https://localhost:8080/"
        },
        "outputId": "4cd35310-8aa6-4263-a073-a18efb1a1c7e"
      },
      "source": [
        "import pandas as pd\n",
        "wed=pd.date_range('2020-01-01','2020-12-31',freq='W-WED')\n",
        "print(wed)\n"
      ],
      "execution_count": null,
      "outputs": [
        {
          "output_type": "stream",
          "text": [
            "DatetimeIndex(['2020-01-01', '2020-01-08', '2020-01-15', '2020-01-22',\n",
            "               '2020-01-29', '2020-02-05', '2020-02-12', '2020-02-19',\n",
            "               '2020-02-26', '2020-03-04', '2020-03-11', '2020-03-18',\n",
            "               '2020-03-25', '2020-04-01', '2020-04-08', '2020-04-15',\n",
            "               '2020-04-22', '2020-04-29', '2020-05-06', '2020-05-13',\n",
            "               '2020-05-20', '2020-05-27', '2020-06-03', '2020-06-10',\n",
            "               '2020-06-17', '2020-06-24', '2020-07-01', '2020-07-08',\n",
            "               '2020-07-15', '2020-07-22', '2020-07-29', '2020-08-05',\n",
            "               '2020-08-12', '2020-08-19', '2020-08-26', '2020-09-02',\n",
            "               '2020-09-09', '2020-09-16', '2020-09-23', '2020-09-30',\n",
            "               '2020-10-07', '2020-10-14', '2020-10-21', '2020-10-28',\n",
            "               '2020-11-04', '2020-11-11', '2020-11-18', '2020-11-25',\n",
            "               '2020-12-02', '2020-12-09', '2020-12-16', '2020-12-23',\n",
            "               '2020-12-30'],\n",
            "              dtype='datetime64[ns]', freq='W-WED')\n"
          ],
          "name": "stdout"
        }
      ]
    }
  ]
}